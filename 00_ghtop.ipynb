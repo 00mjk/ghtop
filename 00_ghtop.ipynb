{
 "cells": [
  {
   "cell_type": "code",
   "execution_count": 19,
   "metadata": {},
   "outputs": [],
   "source": [
    "#default_exp ghtop"
   ]
  },
  {
   "cell_type": "markdown",
   "metadata": {},
   "source": [
    "# ghtop\n",
    "\n",
    "> I cannot believe this library name is not already taken on pypi."
   ]
  },
  {
   "cell_type": "code",
   "execution_count": 20,
   "metadata": {},
   "outputs": [],
   "source": [
    "#export\n",
    "import time, datetime, pytz, sys, signal, shutil, os, json, urllib.request\n",
    "import enlighten, emoji, blessed, requests, webbrowser\n",
    "from ghtop.dashing import *\n",
    "from urllib.parse import parse_qs\n",
    "\n",
    "from collections import defaultdict\n",
    "\n",
    "from fastcore.utils import *\n",
    "from ghapi.all import *"
   ]
  },
  {
   "cell_type": "code",
   "execution_count": 21,
   "metadata": {},
   "outputs": [],
   "source": [
    "term = blessed.Terminal()\n",
    "logfile = Path(\"log.txt\")\n",
    "url = \"https://api.github.com/events\""
   ]
  },
  {
   "cell_type": "code",
   "execution_count": 22,
   "metadata": {},
   "outputs": [],
   "source": [
    "def github_auth_device():\n",
    "    auth = GhDeviceAuth()\n",
    "    wb = input(f\"\"\"First copy your one-time code: {term.yellow}{auth.user_code}{term.normal}\n",
    "    Then visit {auth.verification_uri} in your browser, and paste the code when prompted.\n",
    "    Shall we try to open the link for you? [y/n] \"\"\")\n",
    "    if wb[0].lower()=='y': auth.open_browser()\n",
    "\n",
    "    print (\"Waiting for authorization...\", end='')\n",
    "    token = auth.wait(lambda: print('.', end=''))\n",
    "    print(\"Authenticated with GitHub!\")\n",
    "    return token"
   ]
  },
  {
   "cell_type": "code",
   "execution_count": 23,
   "metadata": {},
   "outputs": [],
   "source": [
    "#export\n",
    "def exit(msg):\n",
    "    print(msg, file=sys.stderr)\n",
    "    sys.exit()"
   ]
  },
  {
   "cell_type": "code",
   "execution_count": 24,
   "metadata": {},
   "outputs": [],
   "source": [
    "#export\n",
    "def get_token():\n",
    "    path = Path.home()/\".ghtop_token\"\n",
    "    if path.is_file():\n",
    "        try: return path.read_text().strip()\n",
    "        except: exit(\"Error reading token\")\n",
    "\n",
    "    token = github_auth_device()\n",
    "    path.write_text(token)\n",
    "    return token"
   ]
  },
  {
   "cell_type": "code",
   "execution_count": 25,
   "metadata": {},
   "outputs": [],
   "source": [
    "token = get_token()"
   ]
  },
  {
   "cell_type": "code",
   "execution_count": 26,
   "metadata": {},
   "outputs": [
    {
     "data": {
      "text/plain": [
       "'84dedf981b71f6d9d50a98d9a67421a61c469ef4'"
      ]
     },
     "execution_count": 26,
     "metadata": {},
     "output_type": "execute_result"
    }
   ],
   "source": [
    "token"
   ]
  },
  {
   "cell_type": "code",
   "execution_count": 27,
   "metadata": {},
   "outputs": [],
   "source": [
    "def limit_cb(rem,quota):\n",
    "    if remaining_apis >= 1000: return\n",
    "    print(\"WARNING WARNING WARNING WARNING WARNING WARNING WARNING WARNING \")\n",
    "    print(\"Remaining calls: \" + str(remaining_apis))\n",
    "    print(\"WARNING WARNING WARNING WARNING WARNING WARNING WARNING WARNING \")"
   ]
  },
  {
   "cell_type": "code",
   "execution_count": 28,
   "metadata": {},
   "outputs": [],
   "source": [
    "api = GhApi(limit_cb=limit_cb)"
   ]
  },
  {
   "cell_type": "code",
   "execution_count": 29,
   "metadata": {},
   "outputs": [],
   "source": [
    "#export\n",
    "def fetch_events(): return api.activity.list_public_events(per_page=100)"
   ]
  },
  {
   "cell_type": "code",
   "execution_count": 30,
   "metadata": {},
   "outputs": [],
   "source": [
    "#export\n",
    "def read_json_log():\n",
    "    try: return logfile.read_json()\n",
    "    except FileNotFoundError: return []"
   ]
  },
  {
   "cell_type": "code",
   "execution_count": 31,
   "metadata": {},
   "outputs": [],
   "source": [
    "printed_event_ids = {}"
   ]
  },
  {
   "cell_type": "code",
   "execution_count": 32,
   "metadata": {},
   "outputs": [],
   "source": [
    "def show(s): print(emoji.emojize(s, use_aliases=True))"
   ]
  },
  {
   "cell_type": "code",
   "execution_count": 78,
   "metadata": {},
   "outputs": [],
   "source": [
    "ev = [o for o in fetch_events() if o.type=='PullRequestEvent']"
   ]
  },
  {
   "cell_type": "code",
   "execution_count": 79,
   "metadata": {
    "scrolled": true
   },
   "outputs": [
    {
     "data": {
      "text/plain": [
       "[(0, 'PullRequestEvent'),\n",
       " (1, 'PullRequestEvent'),\n",
       " (2, 'PullRequestEvent'),\n",
       " (3, 'PullRequestEvent'),\n",
       " (4, 'PullRequestEvent'),\n",
       " (5, 'PullRequestEvent'),\n",
       " (6, 'PullRequestEvent'),\n",
       " (7, 'PullRequestEvent'),\n",
       " (8, 'PullRequestEvent'),\n",
       " (9, 'PullRequestEvent')]"
      ]
     },
     "execution_count": 79,
     "metadata": {},
     "output_type": "execute_result"
    }
   ],
   "source": [
    "[(i,o.type) for i,o in enumerate(ev)]"
   ]
  },
  {
   "cell_type": "code",
   "execution_count": 81,
   "metadata": {},
   "outputs": [
    {
     "name": "stdout",
     "output_type": "stream",
     "text": [
      "\u001b[33m✨ asubb opened a pull request on repo WaveBeans/wavebeans (\"Sample vector improvements in API...\")\u001b[m\n",
      "\u001b[33m✨ boemekeld opened a pull request on repo bohr-cloud/testepr (\"Update aaaa...\")\u001b[m\n",
      "\u001b[33m✨ talevy opened a pull request on repo elastic/elasticsearc (\"move rollup_index param out of RollupActionConfig...\")\u001b[m\n",
      "\u001b[32m✅ jurek91 closed a pull request on repo RobertK3000/giftapes (\"small tweaks...\")\u001b[m\n",
      "\u001b[33m✨ DGryanko opened a pull request on repo DGryanko/Resume_v2 (\"Calculator my...\")\u001b[m\n",
      "\u001b[33m✨ gustavocaraciolo opened a pull request on repo gustavocaraciolo/pat (\"Add entities using the JDL model `patrimonio`...\")\u001b[m\n",
      "\u001b[33m✨ xiangjingli opened a pull request on repo operator-framework/c (\"Upgrade Multicluster subscription operator to V0.2...\")\u001b[m\n",
      "\u001b[33m✨ leonidkit opened a pull request on repo leonidkit/thinknetic (\"Добавлено десятое дз...\")\u001b[m\n",
      "\u001b[33m✨ hiroto940 opened a pull request on repo inovange/inovange-si (\"member link...\")\u001b[m\n"
     ]
    }
   ],
   "source": [
    "printed_event_ids={}\n",
    "for e in ev: print_event(e,None)"
   ]
  },
  {
   "cell_type": "code",
   "execution_count": 69,
   "metadata": {},
   "outputs": [],
   "source": [
    "def _title(d): return f'(\"{d.title[:50]}...\")'\n",
    "def _issue(d): return f'issue # {d.number}'\n",
    "def _repo(r,i=22): return f'on repo {r[:i]}'"
   ]
  },
  {
   "cell_type": "code",
   "execution_count": 76,
   "metadata": {},
   "outputs": [],
   "source": [
    "#export\n",
    "def print_event(e, commits_counter):\n",
    "    if e.id in printed_event_ids: return\n",
    "    printed_event_ids[e.id] = 1\n",
    "    login,repo = e.actor.login,e.repo.name\n",
    "    # Don't print bot activity (there is a lot!)\n",
    "    if \"bot\" in login or \"b0t\" in login: return\n",
    "\n",
    "    if e.type == \"ReleaseEvent\": show(term.firebrick3(f':rocket: {login} released {e.payload.release.tag_name} of {repo}'))\n",
    "    elif e.type in (\"PublicEvent\",\"ForkEvent\",\"CreateEvent\",\"MemberEvent\"): return\n",
    "    elif e.type == \"IssuesEvent\":\n",
    "        action,issue = e.payload.action,e.payload.issue\n",
    "        if action == 'closed':\n",
    "            show(f':star: {login} closed issue # {issue.number} {_repo(r)} {_title(issue)}')\n",
    "        elif action == 'opened':\n",
    "            show(f':closed_mailbox_with_raised_flag: {login} opened {issue_(issue)} {_repo(r)} {_title(issue)}')\n",
    "    elif e.type == \"IssueCommentEvent\":\n",
    "        issue = e.payload.issue\n",
    "        show(term.white(f':speech_balloon: {login} commented on {issue_(issue)} {_repo(r)} {_title(issue)}'))\n",
    "    elif e.type == \"PushEvent\":\n",
    "        for c in e.payload.commits: commits_counter.update()\n",
    "    elif e.type == \"PullRequestEvent\":\n",
    "        pr_emoji,pr_color = (\"white_heavy_check_mark\",term.green) if e.payload.action == \"closed\" else (\"sparkles\",term.yellow)\n",
    "        show(pr_color(f':{pr_emoji}: {login} {e.payload.action} a pull request {_repo(repo,20)} {_title(e.payload.pull_request)}'))\n",
    "    elif e.type == \"SecurityAdvisoryEvent\": return print(term.blink(\"SECURITY ADVISORY\"))"
   ]
  },
  {
   "cell_type": "code",
   "execution_count": null,
   "metadata": {},
   "outputs": [],
   "source": [
    "#export    \n",
    "def write_logs(events):\n",
    "    Path(\"tmp.log\").write_text(json.dumps(events, indent=2))\n",
    "    shutil.move(\"tmp.log\", logfile)\n",
    "\n",
    "def tail_events():\n",
    "    manager = enlighten.get_manager()\n",
    "    commits = manager.counter(desc='Commits', unit='commits', color='green')\n",
    "    while True:\n",
    "        events = fetch_events()\n",
    "        log = read_json_log(logfile)\n",
    "        combined = sorted(log + events, key=lambda x: int(x[\"id\"]))\n",
    "        write_logs(combined)\n",
    "        for x in combined: print_event(x, commits)\n",
    "        time.sleep(0.2)"
   ]
  },
  {
   "cell_type": "code",
   "execution_count": 32,
   "metadata": {},
   "outputs": [],
   "source": [
    "EVENT_EMOJI_MAPPING = defaultdict(lambda:'::', dict(\n",
    "    CreateEvent=':new:',\n",
    "    DeleteEvent=':x:',\n",
    "    DeploymentEvent=':rocket:',\n",
    "    ForkEvent=':fork_and_knife:',\n",
    "    GistEvent=':notepad:',\n",
    "    IssueCommentEvent=':speech_bubble:',\n",
    "    LabelEvent=':label:',\n",
    "    PushEvent=':fist:',\n",
    "    ReleaseEvent=':rocket:',\n",
    "    StarEvent=':star:',\n",
    "    WatchEvent=':eyes:'\n",
    "))"
   ]
  },
  {
   "cell_type": "code",
   "execution_count": null,
   "metadata": {},
   "outputs": [],
   "source": [
    "def event_to_emoji(e):\n",
    "    if EVENT_EMOJI_MAPPING[e[\"type\"]] == '::': return e[\"type\"]\n",
    "    return emoji.emojize(EVENT_EMOJI_MAPPING[e[\"type\"]], use_aliases=True)"
   ]
  },
  {
   "cell_type": "code",
   "execution_count": null,
   "metadata": {},
   "outputs": [],
   "source": [
    "#export\n",
    "def watch_users():\n",
    "    users = {}\n",
    "    users_events = {}\n",
    "    while True:\n",
    "        events = fetch_events()\n",
    "        for x in events:\n",
    "            login = x[\"actor\"][\"login\"]\n",
    "            if login in users: users[login] += 1\n",
    "            else: users[login] = 1\n",
    "            if login not in users_events: users_events[login] = {}\n",
    "            if x['type'] not in users_events[login]: users_events[login][x['type']] = 1\n",
    "            else: users_events[login][x['type']] += 1\n",
    "\n",
    "        print (term.clear())\n",
    "        print (\"User\".ljust(30), \"Events\".ljust(6), \"PRs\".ljust(5), \"Issues\".ljust(6), \"Pushes\".ljust(7))\n",
    "\n",
    "        sorted_users = sorted(users.items(), key = lambda kv: (kv[1], kv[0]), reverse=True)\n",
    "        for i in range(20):\n",
    "            u = sorted_users[i]\n",
    "            ue = users_events[u[0]]\n",
    "            print(u[0].ljust(30), str(u[1]).ljust(6), \n",
    "                (str(ue['PullRequestEvent']) if 'PullRequestEvent' in ue else '').ljust(5), \n",
    "                (str(ue['IssuesEvent']) if 'IssuesEvent' in ue else '').ljust(6), \n",
    "                (str(ue['PushEvent']) if 'PushEvent' in ue else '').ljust(7))\n",
    "        time.sleep(1)"
   ]
  },
  {
   "cell_type": "code",
   "execution_count": null,
   "metadata": {},
   "outputs": [],
   "source": [
    "#export\n",
    "def push_to_log(e):\n",
    "    login,repo = e.actor.login,e.repo.name\n",
    "    return \"%s pushed %d commits to repo %s\" % (login, len(e[\"payload\"][\"commits\"]), repo)"
   ]
  },
  {
   "cell_type": "code",
   "execution_count": null,
   "metadata": {},
   "outputs": [],
   "source": [
    "def issue_to_log(e):\n",
    "    login,repo = e.actor.login,e.repo.name\n",
    "    if e[\"type\"] == \"IssuesEvent\":\n",
    "        action = e[\"payload\"][\"action\"]\n",
    "        issue = e[\"payload\"][\"issue\"]\n",
    "\n",
    "        if action == 'closed':\n",
    "            return emoji.emojize(':star:', use_aliases=True) + ' '  + login + ' closed issue #' + str(issue[\"number\"]) + \" on repo \" + repo[:22] + \" (\\\"\" +  issue[\"title\"][:50] + \"...\\\")\"\n",
    "        elif action == 'opened':\n",
    "            return emoji.emojize(':closed_mailbox_with_raised_flag:', use_aliases=True) + ' '  + login + ' opened issue #' + str(issue[\"number\"]) + \" on repo \" + repo[:22] + \" (\\\"\" +  issue[\"title\"][:50] + \"...\\\")\"\n",
    "\n",
    "    elif e[\"type\"] == \"IssueCommentEvent\":\n",
    "        issue = e[\"payload\"][\"issue\"]\n",
    "        return emoji.emojize(':speech_balloon: ') + login + \" commented on issue #\" + str(issue[\"number\"]) + \" on repo \" + repo[:22] + \" (\\\"\" +  issue[\"title\"][:50] + \"...\\\")\""
   ]
  },
  {
   "cell_type": "code",
   "execution_count": null,
   "metadata": {},
   "outputs": [],
   "source": [
    "def pr_to_log(e):\n",
    "    login,repo = e.actor.login,e.repo.name\n",
    "    action = e[\"payload\"][\"action\"]\n",
    "    pr_emoji = ''\n",
    "    pr_color = None\n",
    "    if action == \"closed\":\n",
    "        pr_emoji = emoji.emojize(\":white_heavy_check_mark:\")\n",
    "    else:\n",
    "        pr_emoji = emoji.emojize(\":sparkles:\")\n",
    "    return pr_emoji + ' ' + login + \" \" + e[\"payload\"][\"action\"] + \" a pull request on repo \" + repo[:20] + \" (\\\"\" +  e[\"payload\"][\"pull_request\"][\"title\"][:50] + \"...\\\")\""
   ]
  },
  {
   "cell_type": "code",
   "execution_count": null,
   "metadata": {},
   "outputs": [],
   "source": [
    "#export\n",
    "def release_to_log(e):\n",
    "    login,repo = e.actor.login,e.repo.name\n",
    "    tag = e[\"payload\"][\"release\"][\"tag_name\"]\n",
    "    return emoji.emojize(':rocket: ') + login + \" released \" + tag + \" of \" + repo"
   ]
  },
  {
   "cell_type": "code",
   "execution_count": null,
   "metadata": {},
   "outputs": [],
   "source": [
    "#export\n",
    "def str_clean(s): return s[:95]"
   ]
  },
  {
   "cell_type": "code",
   "execution_count": null,
   "metadata": {},
   "outputs": [],
   "source": [
    "def signal_handler(sig, frame):\n",
    "    if sig != signal.SIGINT:\n",
    "        return\n",
    "    term=Terminal()\n",
    "    print(term.exit_fullscreen())\n",
    "    print(term.clear())\n",
    "    print(term.normal)\n",
    "    sys.exit(0)"
   ]
  },
  {
   "cell_type": "code",
   "execution_count": null,
   "metadata": {},
   "outputs": [],
   "source": [
    "#export\n",
    "def quad_logs():\n",
    "    term = Terminal()\n",
    "    term.enter_fullscreen()\n",
    "\n",
    "    ui = HSplit(\n",
    "            VSplit(\n",
    "                Log(title='Issues', border_color = 2, color=7),\n",
    "                Log(title='Commits', border_color = 2, color=3)\n",
    "            ),\n",
    "            VSplit(\n",
    "                Log(title='Pull Requests', border_color = 2, color=4),\n",
    "                Log(title='Releases', border_color = 2, color=5)\n",
    "            ),\n",
    "        )\n",
    "\n",
    "    issues = ui.items[0].items[0]\n",
    "    commits = ui.items[0].items[1]\n",
    "    prs = ui.items[1].items[0]\n",
    "    releases = ui.items[1].items[1]\n",
    "\n",
    "    issues.append(\" \")\n",
    "    commits.append(\" \")\n",
    "    prs.append(\" \")\n",
    "    releases.append(\" \")\n",
    "\n",
    "    while True:\n",
    "        events = fetch_events()\n",
    "        for x in events:\n",
    "            t = x[\"type\"]\n",
    "            if t == 'PushEvent': commits.append(str_clean(push_to_log(x)))\n",
    "            elif t == 'IssuesEvent' or t == 'IssueCommentEvent': issues.append(str_clean(issue_to_log(x)))\n",
    "            elif t == 'PullRequestEvent': prs.append(str_clean(pr_to_log(x)))\n",
    "            elif t == 'ReleaseEvent': releases.append(str_clean(release_to_log(x)))\n",
    "        ui.display()\n",
    "        time.sleep(0.1)"
   ]
  },
  {
   "cell_type": "code",
   "execution_count": null,
   "metadata": {},
   "outputs": [],
   "source": [
    "#export\n",
    "def simple():\n",
    "    while True:\n",
    "        events = fetch_events()\n",
    "        for x in events:\n",
    "            print(\"%s %s %s\" % (x[\"actor\"][\"login\"], x[\"type\"], x[\"repo\"][\"name\"]))"
   ]
  },
  {
   "cell_type": "code",
   "execution_count": null,
   "metadata": {},
   "outputs": [],
   "source": [
    "if len(sys.argv) < 2: exit(\"Usage: ghtop <tail|quad|users|simple>\")\n",
    "\n",
    "signal.signal(signal.SIGINT, signal_handler)\n",
    "\n",
    "if sys.argv[1] == 'tail': tail_events()\n",
    "elif sys.argv[1] == 'quad': quad_logs()\n",
    "elif sys.argv[1] == 'users': watch_users()\n",
    "elif sys.argv[1] == 'simple': simple()"
   ]
  },
  {
   "cell_type": "code",
   "execution_count": null,
   "metadata": {},
   "outputs": [],
   "source": []
  }
 ],
 "metadata": {
  "kernelspec": {
   "display_name": "Python 3",
   "language": "python",
   "name": "python3"
  },
  "language_info": {
   "codemirror_mode": {
    "name": "ipython",
    "version": 3
   },
   "file_extension": ".py",
   "mimetype": "text/x-python",
   "name": "python",
   "nbconvert_exporter": "python",
   "pygments_lexer": "ipython3",
   "version": "3.7.7"
  },
  "toc": {
   "base_numbering": 1,
   "nav_menu": {},
   "number_sections": false,
   "sideBar": true,
   "skip_h1_title": true,
   "title_cell": "Table of Contents",
   "title_sidebar": "Contents",
   "toc_cell": false,
   "toc_position": {},
   "toc_section_display": true,
   "toc_window_display": false
  }
 },
 "nbformat": 4,
 "nbformat_minor": 4
}
