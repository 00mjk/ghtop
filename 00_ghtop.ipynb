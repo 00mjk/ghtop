{
 "cells": [
  {
   "cell_type": "code",
   "execution_count": 1,
   "metadata": {},
   "outputs": [],
   "source": [
    "#default_exp ghtop"
   ]
  },
  {
   "cell_type": "markdown",
   "metadata": {},
   "source": [
    "# ghtop\n",
    "\n",
    "> I cannot believe this library name is not already taken on pypi."
   ]
  },
  {
   "cell_type": "code",
   "execution_count": 25,
   "metadata": {},
   "outputs": [],
   "source": [
    "#export\n",
    "import time, sys, signal, shutil, os, json, enlighten, emoji, blessed\n",
    "from ghtop.dashing import *\n",
    "from collections import defaultdict\n",
    "\n",
    "from fastcore.utils import *\n",
    "from fastcore.foundation import *\n",
    "from fastcore.script import *\n",
    "from ghapi.all import *"
   ]
  },
  {
   "cell_type": "code",
   "execution_count": 3,
   "metadata": {},
   "outputs": [],
   "source": [
    "#export\n",
    "term = Terminal()\n",
    "logfile = Path(\"log.txt\")"
   ]
  },
  {
   "cell_type": "code",
   "execution_count": 4,
   "metadata": {},
   "outputs": [],
   "source": [
    "#export\n",
    "def github_auth_device():\n",
    "    auth = GhDeviceAuth()\n",
    "    wb = input(f\"\"\"First copy your one-time code: {term.yellow}{auth.user_code}{term.normal}\n",
    "    Then visit {auth.verification_uri} in your browser, and paste the code when prompted.\n",
    "    Shall we try to open the link for you? [y/n] \"\"\")\n",
    "    if wb[0].lower()=='y': auth.open_browser()\n",
    "\n",
    "    print (\"Waiting for authorization...\", end='')\n",
    "    token = auth.wait(lambda: print('.', end=''))\n",
    "    print(\"Authenticated with GitHub!\")\n",
    "    return token"
   ]
  },
  {
   "cell_type": "code",
   "execution_count": 5,
   "metadata": {},
   "outputs": [],
   "source": [
    "#export\n",
    "def exit(msg):\n",
    "    print(msg, file=sys.stderr)\n",
    "    sys.exit()"
   ]
  },
  {
   "cell_type": "code",
   "execution_count": 6,
   "metadata": {},
   "outputs": [],
   "source": [
    "#export\n",
    "def get_token():\n",
    "    path = Path.home()/\".ghtop_token\"\n",
    "    if path.is_file():\n",
    "        try: return path.read_text().strip()\n",
    "        except: exit(\"Error reading token\")\n",
    "\n",
    "    token = github_auth_device()\n",
    "    path.write_text(token)\n",
    "    return token"
   ]
  },
  {
   "cell_type": "code",
   "execution_count": 7,
   "metadata": {},
   "outputs": [],
   "source": [
    "token = get_token()"
   ]
  },
  {
   "cell_type": "code",
   "execution_count": 8,
   "metadata": {},
   "outputs": [],
   "source": [
    "#export\n",
    "def limit_cb(rem,quota):\n",
    "    w='WARNING '*7\n",
    "    if rem < 1000: print(f\"{w}\\nRemaining calls: {rem} out of {quota}\\n{w}\")"
   ]
  },
  {
   "cell_type": "code",
   "execution_count": 9,
   "metadata": {},
   "outputs": [],
   "source": [
    "#export\n",
    "api = GhApi(limit_cb=limit_cb)"
   ]
  },
  {
   "cell_type": "code",
   "execution_count": 10,
   "metadata": {},
   "outputs": [],
   "source": [
    "#export\n",
    "def fetch_events(): return api.activity.list_public_events(per_page=100)\n",
    "\n",
    "def _maybeAttrDict(x): return AttrDict(x) if isinstance(x, dict) else x"
   ]
  },
  {
   "cell_type": "code",
   "execution_count": 11,
   "metadata": {},
   "outputs": [],
   "source": [
    "#export\n",
    "def read_json_log():\n",
    "    try: res = logfile.read_json()\n",
    "    except FileNotFoundError: return []    \n",
    "    return L(res).map(dict2obj) if isinstance(res,list) else L([dict2obj(res)])"
   ]
  },
  {
   "cell_type": "code",
   "execution_count": 12,
   "metadata": {},
   "outputs": [],
   "source": [
    "#export\n",
    "Events = dict(\n",
    "    IssuesEvent_closed=('⭐', 'closed', noop),\n",
    "    IssuesEvent_opened=('📫', 'opened', noop),\n",
    "    IssueCommentEvent=('💬', 'commented on', term.white),\n",
    "    PullRequestEvent_opened=('✨', 'opened a pull request', term.yellow),\n",
    "    PullRequestEvent_closed=('✔', 'closed a pull request', term.green),\n",
    ")"
   ]
  },
  {
   "cell_type": "code",
   "execution_count": 13,
   "metadata": {},
   "outputs": [],
   "source": [
    "#export\n",
    "printed_event_ids = {}"
   ]
  },
  {
   "cell_type": "code",
   "execution_count": 14,
   "metadata": {},
   "outputs": [],
   "source": [
    "#export\n",
    "def to_log(e):\n",
    "    login,repo,pay = e.actor.login,e.repo.name,e.payload\n",
    "    typ = e.type + (f'_{pay.action}' if e.type in ('PullRequestEvent','IssuesEvent') else '')\n",
    "    emoji,msg,color = Events.get(typ, [0]*3)\n",
    "    if emoji:\n",
    "        xtra = '' if e.type == \"PullRequestEvent\" else f' issue # {pay.issue.number}'\n",
    "        d = try_attrs(pay, \"pull_request\", \"issue\")\n",
    "        return color(f'{emoji} {login} {msg}{xtra} on repo {repo[:20]} (\"{d.title[:50]}...\")')\n",
    "    elif e.type == \"ReleaseEvent\": return f'🚀 {login} released {e.payload.release.tag_name} of {repo}'"
   ]
  },
  {
   "cell_type": "code",
   "execution_count": 15,
   "metadata": {},
   "outputs": [],
   "source": [
    "#export\n",
    "def print_event(e, commits_counter):\n",
    "    if e.id in printed_event_ids: return\n",
    "    printed_event_ids[e.id] = 1\n",
    "    login = e.actor.login\n",
    "    if \"bot\" in login or \"b0t\" in login: return  # Don't print bot activity (there is a lot!)\n",
    "\n",
    "    res = to_log(e)\n",
    "    if res: print(res)\n",
    "    elif e.type == \"PushEvent\": [commits_counter.update() for c in e.payload.commits]\n",
    "    elif e.type == \"SecurityAdvisoryEvent\": print(term.blink(\"SECURITY ADVISORY\"))"
   ]
  },
  {
   "cell_type": "code",
   "execution_count": 16,
   "metadata": {},
   "outputs": [
    {
     "name": "stdout",
     "output_type": "stream",
     "text": [
      "\u001b[33m✨ kenanduman1988 opened a pull request on repo syntaxerrors/Steam (\"add php 8.0 support...\")\u001b[m\n",
      "\u001b[33m✨ coding-to-music opened a pull request on repo coding-to-music/codi (\"first readme generated...\")\u001b[m\n",
      "📫 bigeasy opened issue # 24 on repo bigeasy/r-tree (\"Upgrade `reciprocate` to `0.0.2`....\")\n",
      "⭐ DorShahar closed issue # 13270 on repo elementor/elementor (\"Responsive Options for 'Layout' Settings...\")\n"
     ]
    }
   ],
   "source": [
    "ev = [o for o in fetch_events() if o.type in ('IssuesEvent','ReleaseEvent','PullRequestEvent')]\n",
    "[(i,o.type) for i,o in enumerate(ev)]\n",
    "printed_event_ids={}\n",
    "for e in ev: print_event(e,None)"
   ]
  },
  {
   "cell_type": "code",
   "execution_count": 17,
   "metadata": {},
   "outputs": [],
   "source": [
    "#export    \n",
    "def write_logs(events):\n",
    "    Path(\"tmp.log\").write_text(json.dumps(events, indent=2))\n",
    "    shutil.move(\"tmp.log\", logfile)\n",
    "\n",
    "def tail_events():\n",
    "    manager = enlighten.get_manager()\n",
    "    commits = manager.counter(desc='Commits', unit='commits', color='green')\n",
    "    while True:\n",
    "        combined = (fetch_events()+read_json_log()).sorted(using_attr(int,\"id\"))\n",
    "        write_logs(obj2dict(combined))\n",
    "        for x in combined: print_event(x, commits)\n",
    "        time.sleep(0.2)"
   ]
  },
  {
   "cell_type": "code",
   "execution_count": 26,
   "metadata": {},
   "outputs": [],
   "source": [
    "#export\n",
    "def watch_users():\n",
    "    users,users_events = defaultdict(int),defaultdict(lambda: defaultdict(int))\n",
    "    while True:\n",
    "        for x in fetch_events():\n",
    "            login = x.actor.login\n",
    "            users[login] += 1\n",
    "            users_events[login][x.type] += 1\n",
    "\n",
    "        print (term.clear())\n",
    "        print (\"User\".ljust(30), \"Events\".ljust(6), \"PRs\".ljust(5), \"Issues\".ljust(6), \"Pushes\".ljust(7))\n",
    "        sorted_users = sorted(users.items(), key = lambda kv: (kv[1], kv[0]), reverse=True)\n",
    "        for i in range(20):\n",
    "            u = sorted_users[i]\n",
    "            ue = users_events[u[0]]\n",
    "            print(u[0].ljust(30), str(u[1]).ljust(6), \n",
    "                  str(ue.get('PullRequestEvent', '')).ljust(5), \n",
    "                  str(ue.get('IssuesEvent', '')).ljust(6), \n",
    "                  str(ue.get('PushEvent', '')).ljust(7))\n",
    "        time.sleep(1)"
   ]
  },
  {
   "cell_type": "code",
   "execution_count": 19,
   "metadata": {},
   "outputs": [],
   "source": [
    "#export\n",
    "def push_to_log(e):\n",
    "    return f\"{e.actor.login} pushed {len(e.payload.commits)} commits to repo {e.repo.name}\""
   ]
  },
  {
   "cell_type": "code",
   "execution_count": 20,
   "metadata": {},
   "outputs": [],
   "source": [
    "#export\n",
    "def str_clean(s): return s[:95]"
   ]
  },
  {
   "cell_type": "code",
   "execution_count": 21,
   "metadata": {},
   "outputs": [],
   "source": [
    "#export\n",
    "def signal_handler(sig, frame):\n",
    "    if sig != signal.SIGINT: return\n",
    "    print(term.exit_fullscreen())\n",
    "    print(term.clear())\n",
    "    print(term.normal)\n",
    "    sys.exit(0)"
   ]
  },
  {
   "cell_type": "code",
   "execution_count": 22,
   "metadata": {},
   "outputs": [],
   "source": [
    "#export\n",
    "def quad_logs():\n",
    "    term.enter_fullscreen()\n",
    "    ui = HSplit(\n",
    "            VSplit(\n",
    "                Log(title='Issues', border_color = 2, color=7),\n",
    "                Log(title='Commits', border_color = 2, color=3)\n",
    "            ),\n",
    "            VSplit(\n",
    "                Log(title='Pull Requests', border_color = 2, color=4),\n",
    "                Log(title='Releases', border_color = 2, color=5)\n",
    "            ),\n",
    "        )\n",
    "\n",
    "    issues,commits = ui.items[0].items\n",
    "    prs,releases = ui.items[1].items\n",
    "    for o in issues,commits,prs,releases: o.append(\" \")\n",
    "\n",
    "    while True:\n",
    "        for x in fetch_events():\n",
    "            t = x[\"type\"]\n",
    "            if t == 'PushEvent': commits.append(str_clean(push_to_log(x)))\n",
    "            elif t == 'IssuesEvent' or t == 'IssueCommentEvent': issues.append(str_clean(to_log(x)))\n",
    "            elif t == 'PullRequestEvent': prs.append(str_clean(to_log(x)))\n",
    "            elif t == 'ReleaseEvent': releases.append(str_clean(to_log(x)))\n",
    "        ui.display()\n",
    "        time.sleep(0.1)"
   ]
  },
  {
   "cell_type": "code",
   "execution_count": 23,
   "metadata": {},
   "outputs": [],
   "source": [
    "#export\n",
    "def simple():\n",
    "    while True:\n",
    "        for x in fetch_events(): print(f\"{x.actor.login} {x.type} {x.repo.name}\")"
   ]
  },
  {
   "cell_type": "code",
   "execution_count": 24,
   "metadata": {},
   "outputs": [],
   "source": [
    "#export\n",
    "help_msg = \"Usage: ghtop <tail|quad|users|simple>\"\n",
    "mode_map = defaultdict(lambda: exit(help_msg),{'tail': tail_events,\n",
    "                                              'quad': quad_logs,\n",
    "                                              'users': watch_users,\n",
    "                                              'simple': simple})\n",
    "\n",
    "if __name__ == '__main__' and not in_jupyter():\n",
    "    if len(sys.argv) < 2: exit(help_msg)\n",
    "    _, mode, *_ = sys.argv\n",
    "    signal.signal(signal.SIGINT, signal_handler)\n",
    "    mode_map[mode]()"
   ]
  },
  {
   "cell_type": "code",
   "execution_count": null,
   "metadata": {},
   "outputs": [],
   "source": []
  }
 ],
 "metadata": {
  "kernelspec": {
   "display_name": "Python 3",
   "language": "python",
   "name": "python3"
  },
  "language_info": {
   "codemirror_mode": {
    "name": "ipython",
    "version": 3
   },
   "file_extension": ".py",
   "mimetype": "text/x-python",
   "name": "python",
   "nbconvert_exporter": "python",
   "pygments_lexer": "ipython3",
   "version": "3.8.3"
  },
  "toc": {
   "base_numbering": 1,
   "nav_menu": {},
   "number_sections": false,
   "sideBar": true,
   "skip_h1_title": true,
   "title_cell": "Table of Contents",
   "title_sidebar": "Contents",
   "toc_cell": false,
   "toc_position": {},
   "toc_section_display": true,
   "toc_window_display": false
  }
 },
 "nbformat": 4,
 "nbformat_minor": 4
}
