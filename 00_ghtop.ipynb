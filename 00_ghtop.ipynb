{
 "cells": [
  {
   "cell_type": "code",
   "execution_count": 3,
   "metadata": {},
   "outputs": [],
   "source": [
    "#default_exp ghtop"
   ]
  },
  {
   "cell_type": "markdown",
   "metadata": {},
   "source": [
    "# ghtop\n",
    "\n",
    "> I cannot believe this library name is not already taken on pypi."
   ]
  },
  {
   "cell_type": "code",
   "execution_count": 4,
   "metadata": {},
   "outputs": [],
   "source": [
    "#export\n",
    "import time, sys, signal, shutil, os, json, enlighten, emoji, blessed\n",
    "from ghtop.dashing import *\n",
    "from collections import defaultdict\n",
    "\n",
    "from fastcore.utils import *\n",
    "from ghapi.all import *"
   ]
  },
  {
   "cell_type": "code",
   "execution_count": 5,
   "metadata": {},
   "outputs": [],
   "source": [
    "term = Terminal()\n",
    "logfile = Path(\"log.txt\")"
   ]
  },
  {
   "cell_type": "code",
   "execution_count": 6,
   "metadata": {},
   "outputs": [],
   "source": [
    "def github_auth_device():\n",
    "    auth = GhDeviceAuth()\n",
    "    wb = input(f\"\"\"First copy your one-time code: {term.yellow}{auth.user_code}{term.normal}\n",
    "    Then visit {auth.verification_uri} in your browser, and paste the code when prompted.\n",
    "    Shall we try to open the link for you? [y/n] \"\"\")\n",
    "    if wb[0].lower()=='y': auth.open_browser()\n",
    "\n",
    "    print (\"Waiting for authorization...\", end='')\n",
    "    token = auth.wait(lambda: print('.', end=''))\n",
    "    print(\"Authenticated with GitHub!\")\n",
    "    return token"
   ]
  },
  {
   "cell_type": "code",
   "execution_count": 7,
   "metadata": {},
   "outputs": [],
   "source": [
    "#export\n",
    "def exit(msg):\n",
    "    print(msg, file=sys.stderr)\n",
    "    sys.exit()"
   ]
  },
  {
   "cell_type": "code",
   "execution_count": 8,
   "metadata": {},
   "outputs": [],
   "source": [
    "#export\n",
    "def get_token():\n",
    "    path = Path.home()/\".ghtop_token\"\n",
    "    if path.is_file():\n",
    "        try: return path.read_text().strip()\n",
    "        except: exit(\"Error reading token\")\n",
    "\n",
    "    token = github_auth_device()\n",
    "    path.write_text(token)\n",
    "    return token"
   ]
  },
  {
   "cell_type": "code",
   "execution_count": 9,
   "metadata": {},
   "outputs": [],
   "source": [
    "token = get_token()"
   ]
  },
  {
   "cell_type": "code",
   "execution_count": 39,
   "metadata": {},
   "outputs": [],
   "source": [
    "def limit_cb(rem,quota):\n",
    "    if int(rem) >= 1000: return\n",
    "    print(\"WARNING WARNING WARNING WARNING WARNING WARNING WARNING WARNING \")\n",
    "    print(\"Remaining calls: \" + str(remaining_apis))\n",
    "    print(\"WARNING WARNING WARNING WARNING WARNING WARNING WARNING WARNING \")"
   ]
  },
  {
   "cell_type": "code",
   "execution_count": 40,
   "metadata": {},
   "outputs": [],
   "source": [
    "api = GhApi(limit_cb=limit_cb)"
   ]
  },
  {
   "cell_type": "code",
   "execution_count": 41,
   "metadata": {},
   "outputs": [],
   "source": [
    "#export\n",
    "def fetch_events(): return api.activity.list_public_events(per_page=100)"
   ]
  },
  {
   "cell_type": "code",
   "execution_count": 42,
   "metadata": {},
   "outputs": [],
   "source": [
    "#export\n",
    "def read_json_log():\n",
    "    try: return logfile.read_json()\n",
    "    except FileNotFoundError: return []"
   ]
  },
  {
   "cell_type": "code",
   "execution_count": 85,
   "metadata": {},
   "outputs": [],
   "source": [
    "# EVENT_EMOJI_MAPPING = defaultdict(str, dict(\n",
    "#     CreateEvent='🆕',\n",
    "#     DeleteEvent='❌',\n",
    "#     DeploymentEvent='🚀',\n",
    "#     ForkEvent='🍴',\n",
    "#     GistEvent='📒',\n",
    "#     IssueCommentEvent='💬',\n",
    "#     LabelEvent='🏷',\n",
    "#     PushEvent='🤜',\n",
    "#     ReleaseEvent='🚀',\n",
    "#     StarEvent='⭐',\n",
    "#     WatchEvent='👀'\n",
    "# ))"
   ]
  },
  {
   "cell_type": "code",
   "execution_count": 86,
   "metadata": {},
   "outputs": [],
   "source": [
    "Events = dict(\n",
    "    IssuesEvent_closed=('⭐', 'closed', noop, 'issue'),\n",
    "    IssuesEvent_opened=('📫', 'opened', noop, 'issue'),\n",
    "    IssueCommentEvent=('💬', 'commented on', term.white, 'issue'),\n",
    "    PullRequestEvent_opened=('✨', 'opened a pull request', term.yellow, 'pull_request'),\n",
    "    PullRequestEvent_closed=('✔', 'closed a pull request', term.green, 'pull_request'),\n",
    ")"
   ]
  },
  {
   "cell_type": "code",
   "execution_count": 87,
   "metadata": {},
   "outputs": [],
   "source": [
    "printed_event_ids = {}"
   ]
  },
  {
   "cell_type": "code",
   "execution_count": 88,
   "metadata": {},
   "outputs": [],
   "source": [
    "def _title(d): return f'(\"{d.title[:50]}...\")'\n",
    "def _repo(r,i=20): return f'on repo {r[:i]}'\n",
    "def _release(e, login, repo): return f'🚀 {login} released {e.payload.release.tag_name} of {repo}'"
   ]
  },
  {
   "cell_type": "code",
   "execution_count": 92,
   "metadata": {},
   "outputs": [],
   "source": [
    "def to_log(e):\n",
    "    login,repo,pay = e.actor.login,e.repo.name,e.payload\n",
    "    typ = e.type + (f'_{pay.action}' if e.type in ('PullRequestEvent','IssuesEvent') else '')\n",
    "    emoji,msg,color,attr = Events.get(typ, [0]*4)\n",
    "    if emoji:\n",
    "        xtra = '' if e.type == \"PullRequestEvent\" else f' issue # {pay.issue.number}'\n",
    "        return color(f'{emoji} {login} {msg}{xtra} {_repo(repo)} {_title(pay[attr])}')\n",
    "    elif e.type == \"ReleaseEvent\": return term.firebrick3(_release(e, login, repo))"
   ]
  },
  {
   "cell_type": "code",
   "execution_count": 93,
   "metadata": {},
   "outputs": [],
   "source": [
    "#export\n",
    "def print_event(e, commits_counter):\n",
    "    if e.id in printed_event_ids: return\n",
    "    printed_event_ids[e.id] = 1\n",
    "    login = e.actor.login\n",
    "    if \"bot\" in login or \"b0t\" in login: return  # Don't print bot activity (there is a lot!)\n",
    "\n",
    "    res = to_log(e)\n",
    "    if res: print(res)\n",
    "    elif e.type == \"PushEvent\": [commits_counter.update() for c in e.payload.commits]\n",
    "    elif e.type == \"SecurityAdvisoryEvent\": print(term.blink(\"SECURITY ADVISORY\"))"
   ]
  },
  {
   "cell_type": "code",
   "execution_count": 94,
   "metadata": {},
   "outputs": [
    {
     "name": "stdout",
     "output_type": "stream",
     "text": [
      "\u001b[32m✔ lacomaco closed a pull request on repo boostcamp-2020/Proje (\"PieGraph 페이지 생성...\")\u001b[m\n",
      "\u001b[33m✨ ddacw opened a pull request on repo CS201-Platal-Game/Pl (\"Clock implementation...\")\u001b[m\n",
      "\u001b[32m✔ dangokanako closed a pull request on repo dangokanako/JieLink. (\"获取最新代码？...\")\u001b[m\n",
      "\u001b[31m🚀 tuuzed released 0.12.0.BETA of tuuzed/LightTunnel\u001b[m\n",
      "\u001b[32m✔ OrionEdwards-Gallagher closed a pull request on repo GallagherSecurity/mo (\"Orion/sdk15...\")\u001b[m\n",
      "📫 HCookY95 opened issue # 6 on repo XiuweiHe/EmotionClas (\"Unknow url type...\")\n",
      "\u001b[32m✔ stephqq closed a pull request on repo stephqq/thinkMindful (\"Bump lodash from 4.17.15 to 4.17.19...\")\u001b[m\n",
      "\u001b[33m✨ rachellegelden opened a pull request on repo canvas-gamification/ (\"cleanup exam workflow...\")\u001b[m\n",
      "📫 Yamboy1 opened issue # 8704 on repo denoland/deno (\"Dead link on `Script Installer` manual page...\")\n",
      "\u001b[32m✔ r2dev2bb8 closed a pull request on repo KentoNishi/LiveTL (\"Safari Auto Build now pulls version number automat...\")\u001b[m\n"
     ]
    }
   ],
   "source": [
    "ev = [o for o in fetch_events() if o.type in ('IssuesEvent','ReleaseEvent','PullRequestEvent')]\n",
    "[(i,o.type) for i,o in enumerate(ev)]\n",
    "printed_event_ids={}\n",
    "for e in ev: print_event(e,None)"
   ]
  },
  {
   "cell_type": "code",
   "execution_count": 72,
   "metadata": {},
   "outputs": [],
   "source": [
    "#export    \n",
    "def write_logs(events):\n",
    "    Path(\"tmp.log\").write_text(json.dumps(events, indent=2))\n",
    "    shutil.move(\"tmp.log\", logfile)\n",
    "\n",
    "def tail_events():\n",
    "    manager = enlighten.get_manager()\n",
    "    commits = manager.counter(desc='Commits', unit='commits', color='green')\n",
    "    while True:\n",
    "        events = fetch_events()\n",
    "        log = read_json_log()\n",
    "        combined = sorted(log + events, key=lambda x: int(x[\"id\"]))\n",
    "        write_logs(combined)\n",
    "        for x in combined: print_event(x, commits)\n",
    "        time.sleep(0.2)"
   ]
  },
  {
   "cell_type": "code",
   "execution_count": 73,
   "metadata": {},
   "outputs": [],
   "source": [
    "combined = (fetch_events()+read_json_log()).sorted(using_attr(int,\"id\"))"
   ]
  },
  {
   "cell_type": "code",
   "execution_count": 76,
   "metadata": {},
   "outputs": [],
   "source": [
    "#export\n",
    "def watch_users():\n",
    "    users,users_events = defaultdict(int),defaultdict(lambda: defaultdict(int))\n",
    "    while True:\n",
    "        for x in fetch_events():\n",
    "            login = e.actor.login\n",
    "            users[login] += 1\n",
    "            users_events[login][x.type] += 1\n",
    "\n",
    "        print (term.clear())\n",
    "        print (\"User\".ljust(30), \"Events\".ljust(6), \"PRs\".ljust(5), \"Issues\".ljust(6), \"Pushes\".ljust(7))\n",
    "        sorted_users = sorted(users.items(), key = lambda kv: (kv[1], kv[0]), reverse=True)\n",
    "        for i in range(20):\n",
    "            u = sorted_users[i]\n",
    "            ue = users_events[u[0]]\n",
    "            print(u[0].ljust(30), str(u[1]).ljust(6), \n",
    "                  str(ue.get('PullRequestEvent', '')).ljust(5), \n",
    "                  str(ue.get('IssuesEvent', '')).ljust(6), \n",
    "                  str(ue.get('PushEvent', '')).ljust(7))\n",
    "        time.sleep(1)"
   ]
  },
  {
   "cell_type": "code",
   "execution_count": 77,
   "metadata": {},
   "outputs": [],
   "source": [
    "#export\n",
    "def push_to_log(e):\n",
    "    return f\"{e.actor.login} pushed {len(e.payload.commits)} commits to repo {e.repo.name}\""
   ]
  },
  {
   "cell_type": "code",
   "execution_count": 81,
   "metadata": {},
   "outputs": [],
   "source": [
    "#export\n",
    "def str_clean(s): return s[:95]"
   ]
  },
  {
   "cell_type": "code",
   "execution_count": null,
   "metadata": {},
   "outputs": [],
   "source": [
    "def signal_handler(sig, frame):\n",
    "    if sig != signal.SIGINT: return\n",
    "    print(term.exit_fullscreen())\n",
    "    print(term.clear())\n",
    "    print(term.normal)\n",
    "    sys.exit(0)"
   ]
  },
  {
   "cell_type": "code",
   "execution_count": null,
   "metadata": {},
   "outputs": [],
   "source": [
    "#export\n",
    "def quad_logs():\n",
    "    term.enter_fullscreen()\n",
    "    ui = HSplit(\n",
    "            VSplit(\n",
    "                Log(title='Issues', border_color = 2, color=7),\n",
    "                Log(title='Commits', border_color = 2, color=3)\n",
    "            ),\n",
    "            VSplit(\n",
    "                Log(title='Pull Requests', border_color = 2, color=4),\n",
    "                Log(title='Releases', border_color = 2, color=5)\n",
    "            ),\n",
    "        )\n",
    "\n",
    "    issues,commits = ui.items[0].items\n",
    "    prs,releases = ui.items[1].items\n",
    "    for o in issues,commits,prs,releases: o.append(\" \")\n",
    "\n",
    "    while True:\n",
    "        for x in fetch_events():\n",
    "            t = x[\"type\"]\n",
    "            if t == 'PushEvent': commits.append(str_clean(push_to_log(x)))\n",
    "            elif t == 'IssuesEvent' or t == 'IssueCommentEvent': issues.append(str_clean(to_log(x)))\n",
    "            elif t == 'PullRequestEvent': prs.append(str_clean(to_log(x)))\n",
    "            elif t == 'ReleaseEvent': releases.append(str_clean(to_log(x)))\n",
    "        ui.display()\n",
    "        time.sleep(0.1)"
   ]
  },
  {
   "cell_type": "code",
   "execution_count": null,
   "metadata": {},
   "outputs": [],
   "source": [
    "#export\n",
    "def simple():\n",
    "    while True:\n",
    "        for x in fetch_events(): print(f\"{x.actor.login} {x.type} {x.repo.name}\")"
   ]
  },
  {
   "cell_type": "code",
   "execution_count": null,
   "metadata": {},
   "outputs": [],
   "source": [
    "if len(sys.argv) < 2: exit(\"Usage: ghtop <tail|quad|users|simple>\")\n",
    "signal.signal(signal.SIGINT, signal_handler)\n",
    "\n",
    "if sys.argv[1] == 'tail': tail_events()\n",
    "elif sys.argv[1] == 'quad': quad_logs()\n",
    "elif sys.argv[1] == 'users': watch_users()\n",
    "elif sys.argv[1] == 'simple': simple()"
   ]
  },
  {
   "cell_type": "code",
   "execution_count": null,
   "metadata": {},
   "outputs": [],
   "source": []
  }
 ],
 "metadata": {
  "kernelspec": {
   "display_name": "Python 3",
   "language": "python",
   "name": "python3"
  },
  "language_info": {
   "codemirror_mode": {
    "name": "ipython",
    "version": 3
   },
   "file_extension": ".py",
   "mimetype": "text/x-python",
   "name": "python",
   "nbconvert_exporter": "python",
   "pygments_lexer": "ipython3",
   "version": "3.7.7"
  },
  "toc": {
   "base_numbering": 1,
   "nav_menu": {},
   "number_sections": false,
   "sideBar": true,
   "skip_h1_title": true,
   "title_cell": "Table of Contents",
   "title_sidebar": "Contents",
   "toc_cell": false,
   "toc_position": {},
   "toc_section_display": true,
   "toc_window_display": false
  }
 },
 "nbformat": 4,
 "nbformat_minor": 4
}
