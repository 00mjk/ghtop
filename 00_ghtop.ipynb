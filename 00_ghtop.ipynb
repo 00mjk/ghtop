{
 "cells": [
  {
   "cell_type": "code",
   "execution_count": 1,
   "metadata": {},
   "outputs": [],
   "source": [
    "#default_exp ghtop"
   ]
  },
  {
   "cell_type": "markdown",
   "metadata": {},
   "source": [
    "# ghtop\n",
    "\n",
    "> I cannot believe this library name is not already taken on pypi."
   ]
  },
  {
   "cell_type": "code",
   "execution_count": 4,
   "metadata": {},
   "outputs": [],
   "source": [
    "#export\n",
    "import time, sys, signal, shutil, os, json, enlighten, emoji, blessed\n",
    "from ghtop.dashing import *\n",
    "from collections import defaultdict\n",
    "\n",
    "from fastcore.utils import *\n",
    "from ghapi.all import *"
   ]
  },
  {
   "cell_type": "code",
   "execution_count": 5,
   "metadata": {},
   "outputs": [],
   "source": [
    "term = Terminal()\n",
    "logfile = Path(\"log.txt\")"
   ]
  },
  {
   "cell_type": "code",
   "execution_count": 58,
   "metadata": {},
   "outputs": [],
   "source": [
    "def github_auth_device():\n",
    "    auth = GhDeviceAuth()\n",
    "    wb = input(f\"\"\"First copy your one-time code: {term.yellow}{auth.user_code}{term.normal}\n",
    "    Then visit {auth.verification_uri} in your browser, and paste the code when prompted.\n",
    "    Shall we try to open the link for you? [y/n] \"\"\")\n",
    "    if wb[0].lower()=='y': auth.open_browser()\n",
    "\n",
    "    print (\"Waiting for authorization...\", end='')\n",
    "    token = auth.wait(lambda: print('.', end=''))\n",
    "    print(\"Authenticated with GitHub!\")\n",
    "    return token"
   ]
  },
  {
   "cell_type": "code",
   "execution_count": 59,
   "metadata": {},
   "outputs": [],
   "source": [
    "#export\n",
    "def exit(msg):\n",
    "    print(msg, file=sys.stderr)\n",
    "    sys.exit()"
   ]
  },
  {
   "cell_type": "code",
   "execution_count": 60,
   "metadata": {},
   "outputs": [],
   "source": [
    "#export\n",
    "def get_token():\n",
    "    path = Path.home()/\".ghtop_token\"\n",
    "    if path.is_file():\n",
    "        try: return path.read_text().strip()\n",
    "        except: exit(\"Error reading token\")\n",
    "\n",
    "    token = github_auth_device()\n",
    "    path.write_text(token)\n",
    "    return token"
   ]
  },
  {
   "cell_type": "code",
   "execution_count": 61,
   "metadata": {},
   "outputs": [],
   "source": [
    "token = get_token()"
   ]
  },
  {
   "cell_type": "code",
   "execution_count": 63,
   "metadata": {},
   "outputs": [],
   "source": [
    "def limit_cb(rem,quota):\n",
    "    if remaining_apis >= 1000: return\n",
    "    print(\"WARNING WARNING WARNING WARNING WARNING WARNING WARNING WARNING \")\n",
    "    print(\"Remaining calls: \" + str(remaining_apis))\n",
    "    print(\"WARNING WARNING WARNING WARNING WARNING WARNING WARNING WARNING \")"
   ]
  },
  {
   "cell_type": "code",
   "execution_count": 64,
   "metadata": {},
   "outputs": [],
   "source": [
    "api = GhApi(limit_cb=limit_cb)"
   ]
  },
  {
   "cell_type": "code",
   "execution_count": 65,
   "metadata": {},
   "outputs": [],
   "source": [
    "#export\n",
    "def fetch_events(): return api.activity.list_public_events(per_page=100)"
   ]
  },
  {
   "cell_type": "code",
   "execution_count": 66,
   "metadata": {},
   "outputs": [],
   "source": [
    "#export\n",
    "def read_json_log():\n",
    "    try: return logfile.read_json()\n",
    "    except FileNotFoundError: return []"
   ]
  },
  {
   "cell_type": "code",
   "execution_count": 6,
   "metadata": {},
   "outputs": [],
   "source": [
    "EVENT_EMOJI_MAPPING = defaultdict(str, dict(\n",
    "    CreateEvent=':new:',\n",
    "    DeleteEvent=':x:',\n",
    "    DeploymentEvent=':rocket:',\n",
    "    ForkEvent=':fork_and_knife:',\n",
    "    GistEvent=':notepad:',\n",
    "    IssueCommentEvent=':speech_bubble:',\n",
    "    LabelEvent=':label:',\n",
    "    PushEvent=':fist:',\n",
    "    ReleaseEvent=':rocket:',\n",
    "    StarEvent=':star:',\n",
    "    WatchEvent=':eyes:'\n",
    "))"
   ]
  },
  {
   "cell_type": "code",
   "execution_count": 67,
   "metadata": {},
   "outputs": [],
   "source": [
    "printed_event_ids = {}"
   ]
  },
  {
   "cell_type": "code",
   "execution_count": 1,
   "metadata": {},
   "outputs": [],
   "source": [
    "def emo(s): return emoji.emojize(s)\n",
    "def show(s): print(emo(s))\n",
    "\n",
    "def _title(d): return f'(\"{d.title[:50]}...\")'\n",
    "def _repo(r,i=22): return f'on repo {r[:i]}'\n",
    "\n",
    "def _issue(e, login, repo, detl, emoji):\n",
    "    issue = e.payload.issue\n",
    "    return f':{emoji}: {login} {detl} {issue # {issue.number}} {_repo(r)} {_title(issue)}'\n",
    "\n",
    "def _issue_comment(e, login, repo): return _issue(e, login, repo, 'commented on', 'speech_balloon')\n",
    "def _issue_opened(e, login, repo): return _issue(e, login, repo, 'opened', 'closed_mailbox_with_raised_flag')\n",
    "def _issue_closed(e, login, repo): return _issue(e, login, repo, 'closed', 'star')\n",
    "def _release(e, login, repo): return f':rocket: {login} released {e.payload.release.tag_name} of {repo}'"
   ]
  },
  {
   "cell_type": "code",
   "execution_count": 70,
   "metadata": {},
   "outputs": [],
   "source": [
    "#export\n",
    "def print_event(e, commits_counter):\n",
    "    if e.id in printed_event_ids: return\n",
    "    printed_event_ids[e.id] = 1\n",
    "    login,repo = e.actor.login,e.repo.name\n",
    "    # Don't print bot activity (there is a lot!)\n",
    "    if \"bot\" in login or \"b0t\" in login: return\n",
    "\n",
    "    if e.type == \"ReleaseEvent\": show(term.firebrick3(_release(e, login, repo)))\n",
    "    elif e.type in (\"PublicEvent\",\"ForkEvent\",\"CreateEvent\",\"MemberEvent\"): return\n",
    "    elif e.type == \"IssuesEvent\":\n",
    "        if e.payload.action == 'closed': show(_issue_closed(e, login, repo))\n",
    "        elif e.payload.action == 'opened': show(_issue_opened(e, login, repo))\n",
    "    elif e.type == \"IssueCommentEvent\": show(term.white(_issue_comment(e, login, repo)))\n",
    "    elif e.type == \"PushEvent\":\n",
    "        for c in e.payload.commits: commits_counter.update()\n",
    "    elif e.type == \"PullRequestEvent\":\n",
    "        pr_emoji,pr_color = (\"white_heavy_check_mark\",term.green) if e.payload.action == \"closed\" else (\"sparkles\",term.yellow)\n",
    "        show(pr_color(f':{pr_emoji}: {login} {e.payload.action} a pull request {_repo(repo,20)} {_title(e.payload.pull_request)}'))\n",
    "    elif e.type == \"SecurityAdvisoryEvent\": return print(term.blink(\"SECURITY ADVISORY\"))"
   ]
  },
  {
   "cell_type": "code",
   "execution_count": 71,
   "metadata": {},
   "outputs": [
    {
     "name": "stdout",
     "output_type": "stream",
     "text": [
      "\u001b[33m✨ GregJMitchell opened a pull request on repo Oxalisviolacea/viewi (\"Javascript...\")\u001b[m\n",
      "\u001b[32m✅ jdrucza closed a pull request on repo jdrucza/bet-refinery (\"Create Blog “nba-championship-odds-2020”...\")\u001b[m\n",
      "\u001b[33m✨ uxkjaer opened a pull request on repo uxkjaer/ui5-ecosyste (\"pukll...\")\u001b[m\n",
      "\u001b[32m✅ bt-admin closed a pull request on repo brain-tec/account_eb (\"Syncing from upstream Noviat/account_ebics (12-gen...\")\u001b[m\n",
      "\u001b[33m✨ tdeenes opened a pull request on repo Ikuyadeu/vscode-R (\"Find in topic (help panel) #463...\")\u001b[m\n"
     ]
    }
   ],
   "source": [
    "ev = [o for o in fetch_events() if o.type=='PullRequestEvent']\n",
    "[(i,o.type) for i,o in enumerate(ev)]\n",
    "printed_event_ids={}\n",
    "for e in ev: print_event(e,None)"
   ]
  },
  {
   "cell_type": "code",
   "execution_count": 72,
   "metadata": {},
   "outputs": [],
   "source": [
    "#export    \n",
    "def write_logs(events):\n",
    "    Path(\"tmp.log\").write_text(json.dumps(events, indent=2))\n",
    "    shutil.move(\"tmp.log\", logfile)\n",
    "\n",
    "def tail_events():\n",
    "    manager = enlighten.get_manager()\n",
    "    commits = manager.counter(desc='Commits', unit='commits', color='green')\n",
    "    while True:\n",
    "        events = fetch_events()\n",
    "        log = read_json_log()\n",
    "        combined = sorted(log + events, key=lambda x: int(x[\"id\"]))\n",
    "        write_logs(combined)\n",
    "        for x in combined: print_event(x, commits)\n",
    "        time.sleep(0.2)"
   ]
  },
  {
   "cell_type": "code",
   "execution_count": 73,
   "metadata": {},
   "outputs": [],
   "source": [
    "combined = (fetch_events()+read_json_log()).sorted(using_attr(int,\"id\"))"
   ]
  },
  {
   "cell_type": "code",
   "execution_count": 76,
   "metadata": {},
   "outputs": [],
   "source": [
    "#export\n",
    "def watch_users():\n",
    "    users,users_events = defaultdict(int),defaultdict(lambda: defaultdict(int))\n",
    "    while True:\n",
    "        for x in fetch_events():\n",
    "            login = e.actor.login\n",
    "            users[login] += 1\n",
    "            users_events[login][x.type] += 1\n",
    "\n",
    "        print (term.clear())\n",
    "        print (\"User\".ljust(30), \"Events\".ljust(6), \"PRs\".ljust(5), \"Issues\".ljust(6), \"Pushes\".ljust(7))\n",
    "        sorted_users = sorted(users.items(), key = lambda kv: (kv[1], kv[0]), reverse=True)\n",
    "        for i in range(20):\n",
    "            u = sorted_users[i]\n",
    "            ue = users_events[u[0]]\n",
    "            print(u[0].ljust(30), str(u[1]).ljust(6), \n",
    "                  str(ue.get('PullRequestEvent', '')).ljust(5), \n",
    "                  str(ue.get('IssuesEvent', '')).ljust(6), \n",
    "                  str(ue.get('PushEvent', '')).ljust(7))\n",
    "        time.sleep(1)"
   ]
  },
  {
   "cell_type": "code",
   "execution_count": 77,
   "metadata": {},
   "outputs": [],
   "source": [
    "#export\n",
    "def push_to_log(e):\n",
    "    return f\"{e.actor.login} pushed {len(e.payload.commits)} commits to repo {e.repo.name}\""
   ]
  },
  {
   "cell_type": "code",
   "execution_count": 78,
   "metadata": {},
   "outputs": [],
   "source": [
    "def issue_to_log(e):\n",
    "    login,repo = e.actor.login,e.repo.name\n",
    "    if e.type == \"IssuesEvent\":\n",
    "        action,issue = e.payload.action,e.payload.issue\n",
    "        if action == 'closed': return emo(_issue_closed(e, login, repo))\n",
    "        elif action == 'opened': return emo(_issue_opened(e, login, repo))\n",
    "    elif e.type == \"IssueCommentEvent\": return emo(_issue_comment(e, login, repo))"
   ]
  },
  {
   "cell_type": "code",
   "execution_count": 79,
   "metadata": {},
   "outputs": [],
   "source": [
    "def pr_to_log(e):\n",
    "    login,repo = e.actor.login,e.repo.name\n",
    "    emo(\"white_heavy_check_mark\" if e.payload.action == \"closed\" else \"sparkles\")\n",
    "    return f':{pr_emoji}: {login} {e.payload.action} a pull request {_repo(repo,20)} {_title(e.payload.pull_request)}'"
   ]
  },
  {
   "cell_type": "code",
   "execution_count": 80,
   "metadata": {},
   "outputs": [],
   "source": [
    "#export\n",
    "def release_to_log(e):\n",
    "    login,repo = e.actor.login,e.repo.name\n",
    "    return emo(_release(e, login, repo))"
   ]
  },
  {
   "cell_type": "code",
   "execution_count": 81,
   "metadata": {},
   "outputs": [],
   "source": [
    "#export\n",
    "def str_clean(s): return s[:95]"
   ]
  },
  {
   "cell_type": "code",
   "execution_count": null,
   "metadata": {},
   "outputs": [],
   "source": [
    "def signal_handler(sig, frame):\n",
    "    if sig != signal.SIGINT: return\n",
    "    print(term.exit_fullscreen())\n",
    "    print(term.clear())\n",
    "    print(term.normal)\n",
    "    sys.exit(0)"
   ]
  },
  {
   "cell_type": "code",
   "execution_count": null,
   "metadata": {},
   "outputs": [],
   "source": [
    "#export\n",
    "def quad_logs():\n",
    "    term.enter_fullscreen()\n",
    "    ui = HSplit(\n",
    "            VSplit(\n",
    "                Log(title='Issues', border_color = 2, color=7),\n",
    "                Log(title='Commits', border_color = 2, color=3)\n",
    "            ),\n",
    "            VSplit(\n",
    "                Log(title='Pull Requests', border_color = 2, color=4),\n",
    "                Log(title='Releases', border_color = 2, color=5)\n",
    "            ),\n",
    "        )\n",
    "\n",
    "    issues,commits = ui.items[0].items\n",
    "    prs,releases = ui.items[1].items\n",
    "    for o in issues,commits,prs,releases: o.append(\" \")\n",
    "\n",
    "    while True:\n",
    "        for x in fetch_events():\n",
    "            t = x[\"type\"]\n",
    "            if t == 'PushEvent': commits.append(str_clean(push_to_log(x)))\n",
    "            elif t == 'IssuesEvent' or t == 'IssueCommentEvent': issues.append(str_clean(issue_to_log(x)))\n",
    "            elif t == 'PullRequestEvent': prs.append(str_clean(pr_to_log(x)))\n",
    "            elif t == 'ReleaseEvent': releases.append(str_clean(release_to_log(x)))\n",
    "        ui.display()\n",
    "        time.sleep(0.1)"
   ]
  },
  {
   "cell_type": "code",
   "execution_count": null,
   "metadata": {},
   "outputs": [],
   "source": [
    "#export\n",
    "def simple():\n",
    "    while True:\n",
    "        for x in fetch_events(): print(f\"{x.actor.login} {x.type} {x.repo.name}\")"
   ]
  },
  {
   "cell_type": "code",
   "execution_count": null,
   "metadata": {},
   "outputs": [],
   "source": [
    "if len(sys.argv) < 2: exit(\"Usage: ghtop <tail|quad|users|simple>\")\n",
    "signal.signal(signal.SIGINT, signal_handler)\n",
    "\n",
    "if sys.argv[1] == 'tail': tail_events()\n",
    "elif sys.argv[1] == 'quad': quad_logs()\n",
    "elif sys.argv[1] == 'users': watch_users()\n",
    "elif sys.argv[1] == 'simple': simple()"
   ]
  },
  {
   "cell_type": "code",
   "execution_count": null,
   "metadata": {},
   "outputs": [],
   "source": []
  }
 ],
 "metadata": {
  "kernelspec": {
   "display_name": "Python 3",
   "language": "python",
   "name": "python3"
  },
  "language_info": {
   "codemirror_mode": {
    "name": "ipython",
    "version": 3
   },
   "file_extension": ".py",
   "mimetype": "text/x-python",
   "name": "python",
   "nbconvert_exporter": "python",
   "pygments_lexer": "ipython3",
   "version": "3.7.7"
  },
  "toc": {
   "base_numbering": 1,
   "nav_menu": {},
   "number_sections": false,
   "sideBar": true,
   "skip_h1_title": true,
   "title_cell": "Table of Contents",
   "title_sidebar": "Contents",
   "toc_cell": false,
   "toc_position": {},
   "toc_section_display": true,
   "toc_window_display": false
  }
 },
 "nbformat": 4,
 "nbformat_minor": 4
}
