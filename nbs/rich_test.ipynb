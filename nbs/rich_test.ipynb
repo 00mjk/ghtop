{
 "cells": [
  {
   "cell_type": "code",
   "execution_count": null,
   "metadata": {},
   "outputs": [],
   "source": [
    "from rich import print as pr\n",
    "from rich.panel import Panel\n",
    "from rich.console import RenderGroup\n",
    "from rich.table import Table\n",
    "from rich.live import Live\n",
    "\n",
    "import time"
   ]
  },
  {
   "cell_type": "code",
   "execution_count": null,
   "metadata": {},
   "outputs": [],
   "source": [
    "from collections import deque\n",
    "import random\n",
    "\n",
    "class Deque(deque):\n",
    "    def __rich__(self): return '\\n'.join(map(str,self))\n",
    "\n",
    "def grid(*rows):\n",
    "    g = Table.grid(expand=True)\n",
    "    for c in rows[0]: g.add_column()\n",
    "    for r in rows: g.add_row(*r)\n",
    "    return g"
   ]
  },
  {
   "cell_type": "code",
   "execution_count": null,
   "metadata": {},
   "outputs": [],
   "source": [
    "def quad(d):\n",
    "    ps = [Panel(v, title=k) for k,v in d.items()]\n",
    "    return RenderGroup(\n",
    "        grid(ps[:2], ps[2:]),\n",
    "        '# commits: ...'\n",
    "    )"
   ]
  },
  {
   "cell_type": "code",
   "execution_count": null,
   "metadata": {},
   "outputs": [
    {
     "data": {
      "text/html": [
       "<pre style=\"white-space:pre;overflow-x:auto;line-height:normal;font-family:Menlo,'DejaVu Sans Mono',consolas,'Courier New',monospace\">╭────────────────── Issues ───────────────────╮╭─────────────────── PRs ────────────────────╮\n",
       "│ 20                                          ││ 33                                         │\n",
       "│ 29                                          ││ 37                                         │\n",
       "│ 31                                          ││ 40                                         │\n",
       "│ 38                                          ││ 45                                         │\n",
       "│ 49                                          ││ 48                                         │\n",
       "╰─────────────────────────────────────────────╯╰────────────────────────────────────────────╯\n",
       "╭────────────────── Commits ──────────────────╮╭───────────────── Releases ─────────────────╮\n",
       "│ 39                                          ││ 34                                         │\n",
       "│ 41                                          ││ 35                                         │\n",
       "│ 43                                          ││ 36                                         │\n",
       "│ 46                                          ││ 42                                         │\n",
       "│ 47                                          ││ 44                                         │\n",
       "╰─────────────────────────────────────────────╯╰────────────────────────────────────────────╯\n",
       "# commits: ...\n",
       "</pre>\n"
      ],
      "text/plain": [
       "<rich.jupyter.JupyterRenderable at 0x7fa1d02aaf90>"
      ]
     },
     "metadata": {},
     "output_type": "display_data"
    }
   ],
   "source": [
    "types = 'Issues','PRs','Commits','Releases'\n",
    "ds = {o:Deque(maxlen=5) for o in types}\n",
    "for o in range(50): ds[types[random.randint(0,3)]].append(o)\n",
    "pr(quad(ds))"
   ]
  },
  {
   "cell_type": "code",
   "execution_count": null,
   "metadata": {},
   "outputs": [
    {
     "data": {
      "application/vnd.jupyter.widget-view+json": {
       "model_id": "19da5a6dafcb45f88efe1c4b2a9cdd13",
       "version_major": 2,
       "version_minor": 0
      },
      "text/plain": [
       "Output()"
      ]
     },
     "metadata": {},
     "output_type": "display_data"
    }
   ],
   "source": [
    "ds = {o:Deque(maxlen=5) for o in types}\n",
    "with Live(refresh_per_second=4) as live:\n",
    "    for o in range(40):\n",
    "        ds[types[random.randint(0,3)]].append(o)\n",
    "        time.sleep(0.1)\n",
    "        live.update(quad(ds))"
   ]
  },
  {
   "cell_type": "code",
   "execution_count": null,
   "metadata": {},
   "outputs": [
    {
     "data": {
      "application/vnd.jupyter.widget-view+json": {
       "model_id": "e354517320d84ef5baf8086459c0ffa3",
       "version_major": 2,
       "version_minor": 0
      },
      "text/plain": [
       "Output()"
      ]
     },
     "metadata": {},
     "output_type": "display_data"
    }
   ],
   "source": [
    "from rich.progress import Progress\n",
    "\n",
    "with Progress() as progress:\n",
    "    task1 = progress.add_task(\"[red]Downloading...\",  total=20)\n",
    "    task2 = progress.add_task(\"[green]Processing...\", total=20)\n",
    "    while not progress.finished:\n",
    "        progress.update(task1, advance=0.5, refresh=True)\n",
    "        progress.update(task2, advance=0.3, refresh=True)\n",
    "        time.sleep(0.02)"
   ]
  },
  {
   "cell_type": "code",
   "execution_count": null,
   "metadata": {},
   "outputs": [],
   "source": []
  }
 ],
 "metadata": {
  "kernelspec": {
   "display_name": "Python 3",
   "language": "python",
   "name": "python3"
  }
 },
 "nbformat": 4,
 "nbformat_minor": 4
}
